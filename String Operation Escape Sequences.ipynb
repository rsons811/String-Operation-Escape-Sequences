{
 "cells": [
  {
   "cell_type": "markdown",
   "id": "8daa556c-6376-420f-8e04-3adb7dc1d344",
   "metadata": {},
   "source": [
    "# String Operations"
   ]
  },
  {
   "cell_type": "markdown",
   "id": "08750dc3-8c9b-4b36-b1e4-9b12df07f994",
   "metadata": {},
   "source": [
    "# Escape Sequences\n",
    "## Back slashes represent the beginning of escape sequences.\n",
    "## Escape sequences represent strings that may be difficult to input."
   ]
  },
  {
   "cell_type": "markdown",
   "id": "b5f770e2-675c-4f86-b498-9dd1531c329d",
   "metadata": {},
   "source": [
    "### TABLE ESCAPE SEQUENCES\n",
    "|escape sequence|short cut key|\n",
    "|-----|-----|\n",
    "|NEW LINE|\\n|\n",
    "|TAB|\\t|\n",
    "|include bacl slash|\\\\|"
   ]
  },
  {
   "cell_type": "markdown",
   "id": "a1527caf-7de2-4280-8197-d621d39e9456",
   "metadata": {},
   "source": [
    "### NEW LINE ESCAPESEQUENCE"
   ]
  },
  {
   "cell_type": "code",
   "execution_count": 10,
   "id": "292959eb-fbc3-4718-910c-37a038cfc8a4",
   "metadata": {},
   "outputs": [
    {
     "name": "stdout",
     "output_type": "stream",
     "text": [
      "michael jackson \n",
      " is the best\n"
     ]
    }
   ],
   "source": [
    "print(\"michael jackson \\n is the best\")"
   ]
  },
  {
   "cell_type": "markdown",
   "id": "b1445711-fd24-418b-af31-7e4194776283",
   "metadata": {},
   "source": [
    "## TAB ESCAPE SEQUENCE"
   ]
  },
  {
   "cell_type": "code",
   "execution_count": 12,
   "id": "a4bd4a08-af32-46e8-b4bb-285bf0934d6e",
   "metadata": {},
   "outputs": [
    {
     "name": "stdout",
     "output_type": "stream",
     "text": [
      "micheal jackson \t is the baest\n"
     ]
    }
   ],
   "source": [
    "print(\"micheal jackson \\t is the baest\")"
   ]
  },
  {
   "cell_type": "markdown",
   "id": "178628d8-58b5-408a-b1e5-ff41a2860f4a",
   "metadata": {},
   "source": [
    "## INCLUDE BACK SLASH IN STRING"
   ]
  },
  {
   "cell_type": "code",
   "execution_count": 14,
   "id": "2801150a-b769-4ed1-8604-80d183e7e21b",
   "metadata": {},
   "outputs": [
    {
     "name": "stdout",
     "output_type": "stream",
     "text": [
      "micheal jackson \\ is the best\n"
     ]
    }
   ],
   "source": [
    "print(\"micheal jackson \\\\ is the best\")"
   ]
  },
  {
   "cell_type": "markdown",
   "id": "e5bf0489-a47b-4733-b02a-5453ef824055",
   "metadata": {},
   "source": [
    "## NOTE :  r will tell python that string will be display as raw string"
   ]
  },
  {
   "cell_type": "code",
   "execution_count": 15,
   "id": "38b109f5-83ab-47ba-b719-3e8eed5b0081",
   "metadata": {},
   "outputs": [
    {
     "name": "stdout",
     "output_type": "stream",
     "text": [
      "micheal jackson is the best\n"
     ]
    }
   ],
   "source": [
    "print(r\"micheal jackson is the best\")"
   ]
  },
  {
   "cell_type": "code",
   "execution_count": null,
   "id": "e1c2a2b4-7236-4cea-8ce5-afd922bcedaa",
   "metadata": {},
   "outputs": [],
   "source": []
  }
 ],
 "metadata": {
  "kernelspec": {
   "display_name": "Python 3 (ipykernel)",
   "language": "python",
   "name": "python3"
  },
  "language_info": {
   "codemirror_mode": {
    "name": "ipython",
    "version": 3
   },
   "file_extension": ".py",
   "mimetype": "text/x-python",
   "name": "python",
   "nbconvert_exporter": "python",
   "pygments_lexer": "ipython3",
   "version": "3.12.4"
  }
 },
 "nbformat": 4,
 "nbformat_minor": 5
}
